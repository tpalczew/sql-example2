{
 "cells": [
  {
   "cell_type": "markdown",
   "metadata": {},
   "source": [
    "This example shows basic Query Clauses. here are several clauses (components) that make up the SELECT statement. \n",
    "Only one is mandatory - SELECT \n",
    "but of course you will usually use a few to access information you wanted\n",
    "\n",
    "Query clauses:\n",
    "\n",
    "SELECT          - which column to include\n",
    "\n",
    "FROM              - which table and how the tables should be joined\n",
    "\n",
    "WHERE           - filters unwanted data\n",
    "\n",
    "GROUP BY     - group rows together by common column values\n",
    "\n",
    "HAVING           - filters unwanted groups\n",
    "\n",
    "ORDER BY      - sorts "
   ]
  },
  {
   "cell_type": "code",
   "execution_count": 1,
   "metadata": {},
   "outputs": [],
   "source": [
    "import mysql.connector"
   ]
  },
  {
   "cell_type": "code",
   "execution_count": 2,
   "metadata": {},
   "outputs": [],
   "source": [
    "cnx = mysql.connector.connect(user='@#$%^##', password='@#$%$^##$')\n",
    "cursor = cnx.cursor()"
   ]
  },
  {
   "cell_type": "code",
   "execution_count": 3,
   "metadata": {},
   "outputs": [],
   "source": [
    "sql0 = 'DROP DATABASE IF EXISTS mydata'"
   ]
  },
  {
   "cell_type": "code",
   "execution_count": 4,
   "metadata": {},
   "outputs": [],
   "source": [
    "sql1 = 'CREATE DATABASE IF NOT EXISTS mydata'"
   ]
  },
  {
   "cell_type": "code",
   "execution_count": 5,
   "metadata": {},
   "outputs": [],
   "source": [
    "sql2 = 'USE mydata'"
   ]
  },
  {
   "cell_type": "code",
   "execution_count": 6,
   "metadata": {},
   "outputs": [],
   "source": [
    "sql3 = \"CREATE TABLE IF NOT EXISTS person (Name CHAR(22), LastName VARCHAR(22))\" "
   ]
  },
  {
   "cell_type": "code",
   "execution_count": 7,
   "metadata": {},
   "outputs": [
    {
     "name": "stdout",
     "output_type": "stream",
     "text": [
      "server version: 8.0.11\n"
     ]
    }
   ],
   "source": [
    "cursor.execute (\"SELECT VERSION()\")\n",
    "row = cursor.fetchone ()\n",
    "print(\"server version:\", row[0])"
   ]
  },
  {
   "cell_type": "code",
   "execution_count": 8,
   "metadata": {},
   "outputs": [],
   "source": [
    "cursor.execute ( sql0 )"
   ]
  },
  {
   "cell_type": "code",
   "execution_count": 9,
   "metadata": {},
   "outputs": [],
   "source": [
    "cursor.execute ( sql1 )"
   ]
  },
  {
   "cell_type": "code",
   "execution_count": 10,
   "metadata": {},
   "outputs": [],
   "source": [
    "cursor.execute ( sql2 )"
   ]
  },
  {
   "cell_type": "code",
   "execution_count": 11,
   "metadata": {},
   "outputs": [],
   "source": [
    "cursor.execute ( sql3 )"
   ]
  },
  {
   "cell_type": "code",
   "execution_count": 12,
   "metadata": {},
   "outputs": [],
   "source": [
    "name = ['Tom', 'John', 'Dave', 'Spencer', 'Bob', 'Bill', 'Frank', 'Tom', 'Thomas', 'Mike', 'Michael']\n",
    "last_name = ['Powell', 'Loves', 'Obi', 'Lemmy', 'Stone', 'Rommer', 'Korg', 'Abbah', 'Linton', 'Semid', 'Vard']"
   ]
  },
  {
   "cell_type": "code",
   "execution_count": 13,
   "metadata": {},
   "outputs": [],
   "source": [
    "add_person = (\n",
    "  \"INSERT INTO person (Name, LastName) \"\n",
    "  \"VALUES (%s, %s)\"\n",
    ")"
   ]
  },
  {
   "cell_type": "code",
   "execution_count": 14,
   "metadata": {},
   "outputs": [
    {
     "name": "stdout",
     "output_type": "stream",
     "text": [
      "[['Tom', 'Powell'], ['John', 'Loves'], ['Dave', 'Obi'], ['Spencer', 'Lemmy'], ['Bob', 'Stone'], ['Bill', 'Rommer'], ['Frank', 'Korg'], ['Tom', 'Abbah'], ['Thomas', 'Linton'], ['Mike', 'Semid'], ['Michael', 'Vard']]\n"
     ]
    }
   ],
   "source": [
    "data = []\n",
    "i = 0\n",
    "for element in name:\n",
    "    data.append([name[i], last_name[i]])\n",
    "    i += 1\n",
    "print(data)"
   ]
  },
  {
   "cell_type": "code",
   "execution_count": 15,
   "metadata": {},
   "outputs": [],
   "source": [
    "for element in data:\n",
    "    cursor.execute(add_person, element)"
   ]
  },
  {
   "cell_type": "code",
   "execution_count": 16,
   "metadata": {},
   "outputs": [],
   "source": [
    "sql4 = \"SELECT * from person\""
   ]
  },
  {
   "cell_type": "code",
   "execution_count": 17,
   "metadata": {},
   "outputs": [],
   "source": [
    "cursor.execute ( sql4 )"
   ]
  },
  {
   "cell_type": "code",
   "execution_count": 18,
   "metadata": {},
   "outputs": [
    {
     "name": "stdout",
     "output_type": "stream",
     "text": [
      "('Tom', 'Powell')\n",
      "('John', 'Loves')\n",
      "('Dave', 'Obi')\n",
      "('Spencer', 'Lemmy')\n",
      "('Bob', 'Stone')\n",
      "('Bill', 'Rommer')\n",
      "('Frank', 'Korg')\n",
      "('Tom', 'Abbah')\n",
      "('Thomas', 'Linton')\n",
      "('Mike', 'Semid')\n",
      "('Michael', 'Vard')\n"
     ]
    }
   ],
   "source": [
    "for el in cursor:\n",
    "    print(el)"
   ]
  },
  {
   "cell_type": "code",
   "execution_count": 19,
   "metadata": {},
   "outputs": [],
   "source": [
    "# Make sure data is committed to the database\n",
    "cnx.commit()"
   ]
  },
  {
   "cell_type": "code",
   "execution_count": 20,
   "metadata": {},
   "outputs": [],
   "source": [
    "cursor.execute ( \"DESC person\" )"
   ]
  },
  {
   "cell_type": "code",
   "execution_count": 21,
   "metadata": {},
   "outputs": [
    {
     "name": "stdout",
     "output_type": "stream",
     "text": [
      "('Name', b'char(22)', 'YES', b'', None, b'')\n",
      "('LastName', b'varchar(22)', 'YES', b'', None, b'')\n"
     ]
    }
   ],
   "source": [
    "for el in cursor:\n",
    "    print(el)"
   ]
  },
  {
   "cell_type": "code",
   "execution_count": 22,
   "metadata": {},
   "outputs": [],
   "source": [
    "sql5 = \"SELECT Name from person\""
   ]
  },
  {
   "cell_type": "code",
   "execution_count": 23,
   "metadata": {},
   "outputs": [],
   "source": [
    "cursor.execute ( sql5 )"
   ]
  },
  {
   "cell_type": "code",
   "execution_count": 24,
   "metadata": {},
   "outputs": [
    {
     "name": "stdout",
     "output_type": "stream",
     "text": [
      "('Tom',)\n",
      "('John',)\n",
      "('Dave',)\n",
      "('Spencer',)\n",
      "('Bob',)\n",
      "('Bill',)\n",
      "('Frank',)\n",
      "('Tom',)\n",
      "('Thomas',)\n",
      "('Mike',)\n",
      "('Michael',)\n"
     ]
    }
   ],
   "source": [
    "for el in cursor:\n",
    "    print(el)"
   ]
  },
  {
   "cell_type": "code",
   "execution_count": 25,
   "metadata": {},
   "outputs": [],
   "source": [
    "sql6 = \"SELECT Name from person ORDER BY Name ASC\""
   ]
  },
  {
   "cell_type": "code",
   "execution_count": 26,
   "metadata": {},
   "outputs": [],
   "source": [
    "cursor.execute ( sql6 )"
   ]
  },
  {
   "cell_type": "code",
   "execution_count": 27,
   "metadata": {},
   "outputs": [
    {
     "name": "stdout",
     "output_type": "stream",
     "text": [
      "('Bill',)\n",
      "('Bob',)\n",
      "('Dave',)\n",
      "('Frank',)\n",
      "('John',)\n",
      "('Michael',)\n",
      "('Mike',)\n",
      "('Spencer',)\n",
      "('Thomas',)\n",
      "('Tom',)\n",
      "('Tom',)\n"
     ]
    }
   ],
   "source": [
    "for el in cursor:\n",
    "    print(el)"
   ]
  },
  {
   "cell_type": "code",
   "execution_count": 28,
   "metadata": {},
   "outputs": [],
   "source": [
    "sql7 = \"SELECT Name, LastName from person ORDER BY LastName ASC\""
   ]
  },
  {
   "cell_type": "code",
   "execution_count": 29,
   "metadata": {},
   "outputs": [],
   "source": [
    "cursor.execute ( sql7 )"
   ]
  },
  {
   "cell_type": "code",
   "execution_count": 30,
   "metadata": {},
   "outputs": [
    {
     "name": "stdout",
     "output_type": "stream",
     "text": [
      "('Tom', 'Abbah')\n",
      "('Frank', 'Korg')\n",
      "('Spencer', 'Lemmy')\n",
      "('Thomas', 'Linton')\n",
      "('John', 'Loves')\n",
      "('Dave', 'Obi')\n",
      "('Tom', 'Powell')\n",
      "('Bill', 'Rommer')\n",
      "('Mike', 'Semid')\n",
      "('Bob', 'Stone')\n",
      "('Michael', 'Vard')\n"
     ]
    }
   ],
   "source": [
    "for el in cursor:\n",
    "    print(el)"
   ]
  },
  {
   "cell_type": "code",
   "execution_count": 31,
   "metadata": {},
   "outputs": [],
   "source": [
    "## let's add a few columns to our table "
   ]
  },
  {
   "cell_type": "code",
   "execution_count": 32,
   "metadata": {},
   "outputs": [],
   "source": [
    "sql8 = \"ALTER TABLE person ADD COLUMN id INT AUTO_INCREMENT PRIMARY KEY\""
   ]
  },
  {
   "cell_type": "code",
   "execution_count": 33,
   "metadata": {},
   "outputs": [],
   "source": [
    "cursor.execute ( sql8 )"
   ]
  },
  {
   "cell_type": "code",
   "execution_count": 34,
   "metadata": {},
   "outputs": [],
   "source": [
    "sql9 = \"SELECT * from person\""
   ]
  },
  {
   "cell_type": "code",
   "execution_count": 35,
   "metadata": {},
   "outputs": [],
   "source": [
    "cursor.execute ( sql9 )"
   ]
  },
  {
   "cell_type": "code",
   "execution_count": 36,
   "metadata": {},
   "outputs": [
    {
     "name": "stdout",
     "output_type": "stream",
     "text": [
      "('Tom', 'Powell', 1)\n",
      "('John', 'Loves', 2)\n",
      "('Dave', 'Obi', 3)\n",
      "('Spencer', 'Lemmy', 4)\n",
      "('Bob', 'Stone', 5)\n",
      "('Bill', 'Rommer', 6)\n",
      "('Frank', 'Korg', 7)\n",
      "('Tom', 'Abbah', 8)\n",
      "('Thomas', 'Linton', 9)\n",
      "('Mike', 'Semid', 10)\n",
      "('Michael', 'Vard', 11)\n"
     ]
    }
   ],
   "source": [
    "for element in cursor:\n",
    "    print(element)"
   ]
  },
  {
   "cell_type": "code",
   "execution_count": 37,
   "metadata": {},
   "outputs": [
    {
     "name": "stdout",
     "output_type": "stream",
     "text": [
      "('Name', b'char(22)', 'YES', b'', None, b'')\n",
      "('LastName', b'varchar(22)', 'YES', b'', None, b'')\n",
      "('id', b'int(11)', 'NO', b'PRI', None, b'auto_increment')\n"
     ]
    }
   ],
   "source": [
    "cursor.execute ( \"DESC person\" )\n",
    "for el in cursor:\n",
    "    print(el)"
   ]
  },
  {
   "cell_type": "code",
   "execution_count": 38,
   "metadata": {},
   "outputs": [],
   "source": [
    "## so now we have id (Primary Key)\n",
    "## you have learned a few thing so far\n",
    "## First of all how to create a databse, how to creat a table, how to add coulmns, how to add values\n",
    "## Good for you!\n",
    "## So now let's make some examples of different Query clauses:\n",
    "## Just a reminder:\n",
    "## SELECT - which column to include\n",
    "## FROM - which table and how the tables should be joined\n",
    "## WHERE - filters unwanted data\n",
    "## GROUP BY - group rows together by common column values\n",
    "## HAVING - filters unwanted groups\n",
    "## ORDER BY - sorts"
   ]
  },
  {
   "cell_type": "code",
   "execution_count": 39,
   "metadata": {},
   "outputs": [],
   "source": [
    "sql9 = \"SELECT Name, LastName,id from person WHERE id = 7\""
   ]
  },
  {
   "cell_type": "code",
   "execution_count": 40,
   "metadata": {},
   "outputs": [],
   "source": [
    "cursor.execute ( sql9 )"
   ]
  },
  {
   "cell_type": "code",
   "execution_count": 41,
   "metadata": {},
   "outputs": [
    {
     "name": "stdout",
     "output_type": "stream",
     "text": [
      "('Frank', 'Korg', 7)\n"
     ]
    }
   ],
   "source": [
    "for element in cursor:\n",
    "    print(element)"
   ]
  },
  {
   "cell_type": "code",
   "execution_count": 42,
   "metadata": {},
   "outputs": [],
   "source": [
    "sql10 = \"SELECT Name, LastName,id from person WHERE Name = 'Tom' ORDER BY LastName ASC\""
   ]
  },
  {
   "cell_type": "code",
   "execution_count": 43,
   "metadata": {},
   "outputs": [],
   "source": [
    "cursor.execute ( sql10 )"
   ]
  },
  {
   "cell_type": "code",
   "execution_count": 44,
   "metadata": {},
   "outputs": [
    {
     "name": "stdout",
     "output_type": "stream",
     "text": [
      "('Tom', 'Abbah', 8)\n",
      "('Tom', 'Powell', 1)\n"
     ]
    }
   ],
   "source": [
    "for element in cursor:\n",
    "    print(element)"
   ]
  },
  {
   "cell_type": "code",
   "execution_count": 45,
   "metadata": {},
   "outputs": [],
   "source": [
    "## let's add countr "
   ]
  },
  {
   "cell_type": "code",
   "execution_count": 46,
   "metadata": {},
   "outputs": [],
   "source": [
    "sql11 = \"ALTER TABLE person ADD COLUMN country VARCHAR(30)\""
   ]
  },
  {
   "cell_type": "code",
   "execution_count": 47,
   "metadata": {},
   "outputs": [],
   "source": [
    "cursor.execute ( sql11 )"
   ]
  },
  {
   "cell_type": "code",
   "execution_count": 48,
   "metadata": {},
   "outputs": [],
   "source": [
    "sql12 = \"SELECT * FROM person\""
   ]
  },
  {
   "cell_type": "code",
   "execution_count": 49,
   "metadata": {},
   "outputs": [],
   "source": [
    "cursor.execute ( sql12 )"
   ]
  },
  {
   "cell_type": "code",
   "execution_count": 50,
   "metadata": {},
   "outputs": [
    {
     "name": "stdout",
     "output_type": "stream",
     "text": [
      "('Tom', 'Powell', 1, None)\n",
      "('John', 'Loves', 2, None)\n",
      "('Dave', 'Obi', 3, None)\n",
      "('Spencer', 'Lemmy', 4, None)\n",
      "('Bob', 'Stone', 5, None)\n",
      "('Bill', 'Rommer', 6, None)\n",
      "('Frank', 'Korg', 7, None)\n",
      "('Tom', 'Abbah', 8, None)\n",
      "('Thomas', 'Linton', 9, None)\n",
      "('Mike', 'Semid', 10, None)\n",
      "('Michael', 'Vard', 11, None)\n"
     ]
    }
   ],
   "source": [
    "for element in cursor:\n",
    "    print(element)"
   ]
  },
  {
   "cell_type": "code",
   "execution_count": 51,
   "metadata": {},
   "outputs": [],
   "source": [
    "## let's now update data\n",
    "## let's say we want first 5 people to be from Germany\n",
    "## and last 6 people from Italy"
   ]
  },
  {
   "cell_type": "code",
   "execution_count": 52,
   "metadata": {},
   "outputs": [],
   "source": [
    "i = 1\n",
    "for element in name:\n",
    "    if i <= 5:\n",
    "        sql = \"UPDATE person SET country = 'Germany' WHERE id = %s\" %(i)\n",
    "    else:\n",
    "        sql = \"UPDATE person SET country = 'Italy' WHERE id = %s\" %(i)\n",
    "    cursor.execute ( sql )\n",
    "    i += 1"
   ]
  },
  {
   "cell_type": "code",
   "execution_count": 53,
   "metadata": {},
   "outputs": [],
   "source": [
    "## let's add age"
   ]
  },
  {
   "cell_type": "code",
   "execution_count": 54,
   "metadata": {},
   "outputs": [],
   "source": [
    "sql13 = \"ALTER TABLE person ADD COLUMN age Int\""
   ]
  },
  {
   "cell_type": "code",
   "execution_count": 55,
   "metadata": {},
   "outputs": [],
   "source": [
    "cursor.execute ( sql13 )"
   ]
  },
  {
   "cell_type": "code",
   "execution_count": 56,
   "metadata": {},
   "outputs": [],
   "source": [
    "i = 1\n",
    "for element in name:\n",
    "    # random number (int between 1 and 100)\n",
    "    import random\n",
    "    age = random.randint(1,101)\n",
    "    sql = \"UPDATE person SET age = %s WHERE id = %s\" %(age, i)\n",
    "    cursor.execute ( sql )\n",
    "    i += 1"
   ]
  },
  {
   "cell_type": "code",
   "execution_count": 57,
   "metadata": {},
   "outputs": [],
   "source": [
    "sql14 = \"SELECT * FROM person\""
   ]
  },
  {
   "cell_type": "code",
   "execution_count": 58,
   "metadata": {},
   "outputs": [],
   "source": [
    "cursor.execute ( sql14 )"
   ]
  },
  {
   "cell_type": "code",
   "execution_count": 59,
   "metadata": {},
   "outputs": [
    {
     "name": "stdout",
     "output_type": "stream",
     "text": [
      "('Tom', 'Powell', 1, 'Germany', 28)\n",
      "('John', 'Loves', 2, 'Germany', 95)\n",
      "('Dave', 'Obi', 3, 'Germany', 23)\n",
      "('Spencer', 'Lemmy', 4, 'Germany', 12)\n",
      "('Bob', 'Stone', 5, 'Germany', 48)\n",
      "('Bill', 'Rommer', 6, 'Italy', 25)\n",
      "('Frank', 'Korg', 7, 'Italy', 48)\n",
      "('Tom', 'Abbah', 8, 'Italy', 50)\n",
      "('Thomas', 'Linton', 9, 'Italy', 60)\n",
      "('Mike', 'Semid', 10, 'Italy', 51)\n",
      "('Michael', 'Vard', 11, 'Italy', 42)\n"
     ]
    }
   ],
   "source": [
    "for element in cursor:\n",
    "    print(element)"
   ]
  },
  {
   "cell_type": "code",
   "execution_count": 60,
   "metadata": {},
   "outputs": [],
   "source": [
    "## so now we can use GROUP BY"
   ]
  },
  {
   "cell_type": "code",
   "execution_count": 61,
   "metadata": {},
   "outputs": [],
   "source": [
    "sql15 = \"SELECT COUNT(*) as total, country FROM person WHERE age >= 40 GROUP BY country \""
   ]
  },
  {
   "cell_type": "code",
   "execution_count": 62,
   "metadata": {},
   "outputs": [],
   "source": [
    "cursor.execute ( sql15 )"
   ]
  },
  {
   "cell_type": "code",
   "execution_count": 63,
   "metadata": {},
   "outputs": [
    {
     "name": "stdout",
     "output_type": "stream",
     "text": [
      "(2, 'Germany')\n",
      "(5, 'Italy')\n"
     ]
    }
   ],
   "source": [
    "for element in cursor:\n",
    "    print(element)"
   ]
  },
  {
   "cell_type": "code",
   "execution_count": 64,
   "metadata": {},
   "outputs": [],
   "source": [
    "## we have 3 people older than 40 in Germany and 3 people older than 40 in Italy"
   ]
  },
  {
   "cell_type": "code",
   "execution_count": 65,
   "metadata": {},
   "outputs": [],
   "source": [
    "## Can you figure out an example with HAVING ? Good luck!"
   ]
  }
 ],
 "metadata": {
  "kernelspec": {
   "display_name": "Python 3",
   "language": "python",
   "name": "python3"
  },
  "language_info": {
   "codemirror_mode": {
    "name": "ipython",
    "version": 3
   },
   "file_extension": ".py",
   "mimetype": "text/x-python",
   "name": "python",
   "nbconvert_exporter": "python",
   "pygments_lexer": "ipython3",
   "version": "3.6.5"
  }
 },
 "nbformat": 4,
 "nbformat_minor": 2
}
